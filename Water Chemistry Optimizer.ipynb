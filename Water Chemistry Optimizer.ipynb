{
 "cells": [
  {
   "cell_type": "code",
   "execution_count": 6,
   "metadata": {
    "collapsed": true
   },
   "outputs": [],
   "source": [
    "from __future__ import division, print_function\n",
    "import numpy as np"
   ]
  },
  {
   "cell_type": "code",
   "execution_count": 10,
   "metadata": {
    "collapsed": true
   },
   "outputs": [],
   "source": [
    "# ca, mg, so, na, cl, hco, alkalinity\n",
    "\n",
    "source = [30, 17, 12, 5, 7, 252] # 207\n",
    "target = [100, 5, 50, 35, 60, 265] # 217"
   ]
  },
  {
   "cell_type": "code",
   "execution_count": 21,
   "metadata": {
    "collapsed": true
   },
   "outputs": [],
   "source": [
    "mash_volume = 5.5\n",
    "\n",
    "# chalk CaCO3\n",
    "# baking soda NaHCO3\n",
    "# gypsum CaSO4\n",
    "# calcium chloride CaCl2\n",
    "# epsom salt MgSO4\n",
    "# canning salt NaCl\n",
    "\n",
    "initial_adjustments = np.array([.5, .5, 1.6, 2.2, 0, .5])\n",
    "\n",
    "# estimated output\n",
    "expected_out = np.array([81, 17, 55, 21, 72, 284]) # 233"
   ]
  },
  {
   "cell_type": "code",
   "execution_count": 22,
   "metadata": {
    "collapsed": false
   },
   "outputs": [
    {
     "data": {
      "text/plain": [
       "array([  81.46363636,   17.        ,   54.88      ,   21.27272727,\n",
       "         72.34545455,  283.95454545])"
      ]
     },
     "execution_count": 22,
     "metadata": {},
     "output_type": "execute_result"
    }
   ],
   "source": [
    "def adjust_water(source_water, salts, mash_volume):\n",
    "    adjCa = 0\n",
    "    adjMg = 0\n",
    "    adjSO4 = 0\n",
    "    adjNa = 0\n",
    "    adjCl = 0\n",
    "    adjHCO3 = 0\n",
    "    \n",
    "    CaCO3 = salts[0] / 2\n",
    "    NaHCO3 = salts[1]\n",
    "    CaSO4 = salts[2]\n",
    "    CaCl2 = salts[3]\n",
    "    MgSO4 = salts[4]\n",
    "    NaCl = salts[5]\n",
    "    \n",
    "    if CaCO3  > 0:\n",
    "        adjCa += ((105 * CaCO3) / mash_volume)\n",
    "        adjHCO3 += ((321 * CaCO3) / mash_volume)\n",
    "    if NaHCO3 > 0:\n",
    "        adjNa = adjNa + ((75 * NaHCO3) / mash_volume);\n",
    "        adjHCO3 = adjHCO3 + ((191 * NaHCO3) / mash_volume)\n",
    "    if CaSO4 > 0:\n",
    "        adjCa = adjCa + ((61.5 * CaSO4) / mash_volume);\n",
    "        adjSO4 = adjSO4 + ((147.4 * CaSO4) / mash_volume)\n",
    "    if CaCl2 > 0:\n",
    "        adjCa = adjCa + ((72 * CaCl2) / mash_volume);\n",
    "        adjCl = adjCl + ((127 * CaCl2) / mash_volume)\n",
    "    if MgSO4 > 0:\n",
    "        adjMg = adjMg + ((26 * MgSO4) / mash_volume);\n",
    "        adjSO4 = adjSO4 + ((103 * MgSO4) / mash_volume)\n",
    "    if NaCl > 0:\n",
    "        adjNa = adjNa + ((104 * NaCl) / mash_volume);\n",
    "        adjCl = adjCl + ((160 * NaCl) / mash_volume)\n",
    "    \n",
    "    return np.array([adjCa, adjMg, adjSO4, adjNa, adjCl, adjHCO3]) + source_water\n",
    "    \n",
    "adjust_water(source, initial_adjustments, mash_volume)"
   ]
  },
  {
   "cell_type": "code",
   "execution_count": 28,
   "metadata": {
    "collapsed": true
   },
   "outputs": [],
   "source": [
    "from scipy.optimize import minimize\n",
    "from scipy.spatial.distance import euclidean"
   ]
  },
  {
   "cell_type": "code",
   "execution_count": 29,
   "metadata": {
    "collapsed": true
   },
   "outputs": [],
   "source": [
    "def to_optimize(source_water, target_water, mash_volume):\n",
    "    def f(x):\n",
    "        adjusted_water = adjust_water(source_water, x, mash_volume)\n",
    "        return euclidean(adjusted_water, target_water)\n",
    "    return f"
   ]
  },
  {
   "cell_type": "code",
   "execution_count": 36,
   "metadata": {
    "collapsed": false
   },
   "outputs": [
    {
     "data": {
      "text/plain": [
       "      fun: 32.065789859694725\n",
       " hess_inv: array([[  5.56213775e-02,  -3.00115586e-02,   1.00650743e-02,\n",
       "         -3.22655558e-02,  -1.95928337e-04,   1.99052614e-02],\n",
       "       [ -3.00115586e-02,   2.52732613e-02,  -2.12226341e-03,\n",
       "          1.19919099e-02,  -1.23291127e-05,  -1.21397055e-02],\n",
       "       [  1.00650743e-02,  -2.12226341e-03,   4.13817077e-02,\n",
       "         -1.90201344e-02,   2.01076204e-04,   1.11549208e-02],\n",
       "       [ -3.22655558e-02,   1.19919099e-02,  -1.90201344e-02,\n",
       "          1.10745819e-01,  -1.27621051e-04,  -6.41900424e-02],\n",
       "       [ -1.95928337e-04,  -1.23291127e-05,   2.01076204e-04,\n",
       "         -1.27621051e-04,   1.38332275e-04,  -1.32332690e-05],\n",
       "       [  1.99052614e-02,  -1.21397055e-02,   1.11549208e-02,\n",
       "         -6.41900424e-02,  -1.32332690e-05,   6.50973546e-02]])\n",
       "      jac: array([  0.00000000e+00,  -4.76837158e-07,   4.76837158e-07,\n",
       "         9.53674316e-07,   0.00000000e+00,  -4.76837158e-07])\n",
       "  message: 'Optimization terminated successfully.'\n",
       "     nfev: 536\n",
       "      nit: 15\n",
       "     njev: 67\n",
       "   status: 0\n",
       "  success: True\n",
       "        x: array([ -1.07491790e-02,   5.64696573e-01,   1.71839728e+00,\n",
       "         2.40503324e+00,  -1.16764949e-04,   2.89023803e-01])"
      ]
     },
     "execution_count": 36,
     "metadata": {},
     "output_type": "execute_result"
    }
   ],
   "source": [
    "res = minimize(to_optimize(source, target, mash_volume), initial_adjustments)\n",
    "res"
   ]
  },
  {
   "cell_type": "code",
   "execution_count": 39,
   "metadata": {
    "collapsed": false
   },
   "outputs": [
    {
     "data": {
      "text/plain": [
       "array([ 0.5,  0.5,  1.6,  2.2,  0. ,  0.5])"
      ]
     },
     "execution_count": 39,
     "metadata": {},
     "output_type": "execute_result"
    }
   ],
   "source": [
    "initial_adjustments"
   ]
  },
  {
   "cell_type": "code",
   "execution_count": 41,
   "metadata": {
    "collapsed": false
   },
   "outputs": [
    {
     "data": {
      "text/plain": [
       "array([-0. ,  0.6,  1.7,  2.4, -0. ,  0.3])"
      ]
     },
     "execution_count": 41,
     "metadata": {},
     "output_type": "execute_result"
    }
   ],
   "source": [
    "final_adjustments = res.x.round(1)\n",
    "final_adjustments"
   ]
  },
  {
   "cell_type": "code",
   "execution_count": 42,
   "metadata": {
    "collapsed": false
   },
   "outputs": [
    {
     "data": {
      "text/plain": [
       "0.5916079783099615"
      ]
     },
     "execution_count": 42,
     "metadata": {},
     "output_type": "execute_result"
    }
   ],
   "source": [
    "euclidean(initial_adjustments, final_adjustments)"
   ]
  },
  {
   "cell_type": "code",
   "execution_count": 49,
   "metadata": {
    "collapsed": false
   },
   "outputs": [
    {
     "name": "stdout",
     "output_type": "stream",
     "text": [
      "Initial Salts Norm: 310.247830053\n",
      "Final Salts Norm: 299.879226869\n",
      "Difference: 11.796525752725286\n"
     ]
    }
   ],
   "source": [
    "print('Initial Salts Norm:', np.linalg.norm(adjust_water(source, initial_adjustments, mash_volume)))\n",
    "print('Final Salts Norm:', np.linalg.norm(adjust_water(source, final_adjustments, mash_volume)))\n",
    "print('Difference:', euclidean(\n",
    "    adjust_water(source, initial_adjustments, mash_volume),\n",
    "    adjust_water(source, final_adjustments, mash_volume)\n",
    "))"
   ]
  },
  {
   "cell_type": "code",
   "execution_count": 48,
   "metadata": {
    "collapsed": false
   },
   "outputs": [
    {
     "data": {
      "text/plain": [
       "310.24783005347928"
      ]
     },
     "execution_count": 48,
     "metadata": {},
     "output_type": "execute_result"
    }
   ],
   "source": []
  },
  {
   "cell_type": "code",
   "execution_count": 47,
   "metadata": {
    "collapsed": false
   },
   "outputs": [
    {
     "data": {
      "text/plain": [
       "299.87922686881461"
      ]
     },
     "execution_count": 47,
     "metadata": {},
     "output_type": "execute_result"
    }
   ],
   "source": []
  },
  {
   "cell_type": "code",
   "execution_count": null,
   "metadata": {
    "collapsed": true
   },
   "outputs": [],
   "source": []
  }
 ],
 "metadata": {
  "kernelspec": {
   "display_name": "Python 3",
   "language": "python",
   "name": "python3"
  },
  "language_info": {
   "codemirror_mode": {
    "name": "ipython",
    "version": 3
   },
   "file_extension": ".py",
   "mimetype": "text/x-python",
   "name": "python",
   "nbconvert_exporter": "python",
   "pygments_lexer": "ipython3",
   "version": "3.5.2"
  }
 },
 "nbformat": 4,
 "nbformat_minor": 1
}
