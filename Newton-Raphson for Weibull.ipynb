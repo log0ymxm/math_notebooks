{
 "cells": [
  {
   "cell_type": "code",
   "execution_count": 1,
   "metadata": {
    "collapsed": true
   },
   "outputs": [],
   "source": [
    "import numpy as np\n",
    "import scipy as sci\n",
    "import math as m\n",
    "import matplotlib.pyplot as plt\n",
    "import pandas as pd\n",
    "from tqdm import tqdm\n",
    "\n",
    "from corgi.functional import memoize\n",
    "\n",
    "%matplotlib inline"
   ]
  },
  {
   "cell_type": "code",
   "execution_count": 1,
   "metadata": {
    "collapsed": true
   },
   "outputs": [],
   "source": [
    "# Just trying to debug Keith Araneo's work where he's porting his code from R to python.\n",
    "\n",
    "# The idea is to estimate the MLE of the parameters given data. This is done with the Newton-Raphson method."
   ]
  },
  {
   "cell_type": "code",
   "execution_count": 463,
   "metadata": {
    "collapsed": false
   },
   "outputs": [
    {
     "name": "stdout",
     "output_type": "stream",
     "text": [
      "0.500804576696 50.1734687448\n"
     ]
    }
   ],
   "source": [
    "# draw random sample of 1000 observations from a 1-parameter Weibull distribution #\n",
    "n=1000\n",
    "shape= 2.0\n",
    "scale = 20\n",
    "weib1 = np.random.weibull(shape,n)\n",
    "\n",
    "# include scale parameter for a 2-parameter weibull which we will use as our\n",
    "#survival dataset in our case we'll just say the data points represent the\n",
    "#amount of time in years after a treatment that a patient dies or experiences a relapse\n",
    "#years = [scale*y for y in weib1]\n",
    "years = weib1*scale\n",
    "\n",
    "print(min(years), max(years))"
   ]
  },
  {
   "cell_type": "code",
   "execution_count": 464,
   "metadata": {
    "collapsed": false
   },
   "outputs": [
    {
     "data": {
      "image/png": "[encoded data removed]",
      "text/plain": [
       "<matplotlib.figure.Figure at 0x114042978>"
      ]
     },
     "metadata": {},
     "output_type": "display_data"
    }
   ],
   "source": [
    "plt.hist(years,50)\n",
    "plt.show()"
   ]
  },
  {
   "cell_type": "code",
   "execution_count": 465,
   "metadata": {
    "collapsed": true
   },
   "outputs": [],
   "source": [
    "# cool looks like we have some fine weibull distributed data\n",
    "\n",
    "# with the 2-parameter Weibull, it's impossible to explicitly solve for unknown\n",
    "# shape and scale parameters as a function of the data via maximum likelihood but with\n",
    "# Newton-Raphson we can solve for an estimate of beta_hat by defining an arbitrary\n",
    "# set of parameters to find one that is a close estimate of the true parameters we defined\n",
    "\n",
    "# now for the  newton function #\n",
    "# recall the newton method is a numerical way to find the roots of a\n",
    "# function, f(x). We define a set of values x_1,x_2,x_3,...,x_n, where\n",
    "\n",
    "#                 x_n = x_n-1 - (f(x_n-1)/f'(x_n-1)) \n",
    "\n",
    "# we want to find the root for and f'(x) is the first derivative w.r.t. x"
   ]
  },
  {
   "cell_type": "code",
   "execution_count": 466,
   "metadata": {
    "collapsed": true
   },
   "outputs": [],
   "source": [
    "@memoize\n",
    "def g_beta(beta):\n",
    "    # define some of the values in the MLE equations we're working with#\n",
    "    A_numerator_sum = [(xi**beta) * (m.log(xi)) for xi in years]\n",
    "    A_numerator = sum(A_numerator_sum)\n",
    "    A_denominator_sum = [xi**beta for xi in years]\n",
    "    A_denominator = sum(A_denominator_sum)\n",
    "    A = A_numerator / A_denominator\n",
    "    B = 1 / beta\n",
    "    C_numerator_sum = [m.log(xi) for xi in years]\n",
    "    C_numerator = sum(C_numerator_sum)\n",
    "    C = C_numerator / n\n",
    "    return A - B - C\n",
    "\n",
    "@memoize\n",
    "def g_beta_prime(beta):\n",
    "    # More values that we need from the derivative w.r.t. beta\n",
    "    # of the log likelihood function of weibull distribution\n",
    "    D_first_sum = [xi**beta for xi in years]\n",
    "    D_first = sum(D_first_sum)\n",
    "    D_second_sum = [(xi**beta)* m.log(xi)*m.log(xi) for xi in years]\n",
    "    D_second = sum(D_second_sum)\n",
    "    D = D_first * D_second\n",
    "    E_first_sum = [xi**beta * m.log(xi) for xi in years]\n",
    "    E_first = sum(E_first_sum)\n",
    "    E_second_sum = [xi**beta * m.log(beta) for xi in years]\n",
    "    #E_second = sum(E_second_sum)\n",
    "    #E = E_first * E_second\n",
    "    E = E_first**2\n",
    "    F_sum = [xi**beta for xi in years]\n",
    "    F = sum(F_sum)\n",
    "    G = (1/(beta**2))\n",
    "    return ((D-E)/(F**2))+ G"
   ]
  },
  {
   "cell_type": "code",
   "execution_count": 475,
   "metadata": {
    "collapsed": false
   },
   "outputs": [
    {
     "name": "stderr",
     "output_type": "stream",
     "text": [
      "\r",
      "  0%|          | 0/10000 [00:00<?, ?it/s]"
     ]
    },
    {
     "name": "stdout",
     "output_type": "stream",
     "text": [
      "- initial delta 1.21878786706\n",
      "--- -break at -0.250054661404\n",
      "root is at:  1.78121213294\n"
     ]
    },
    {
     "name": "stderr",
     "output_type": "stream",
     "text": [
      "\n"
     ]
    }
   ],
   "source": [
    "x0, xs, deltas = newton(g_beta, g_beta_prime, 3.0)"
   ]
  },
  {
   "cell_type": "code",
   "execution_count": 467,
   "metadata": {
    "collapsed": true
   },
   "outputs": [],
   "source": [
    "# See Bain and Englehardt \"Introduction to Probability and Mathematical Statistics\n",
    "# Second Edition page 301 for an example"
   ]
  },
  {
   "cell_type": "code",
   "execution_count": 468,
   "metadata": {
    "collapsed": true
   },
   "outputs": [],
   "source": [
    "def newton(f, df, x0, e=1e-5, limit=1e4): #x0 is the arbitrary starting guess.\n",
    "    delta = f(x0) / df(x0)\n",
    "    print('- initial delta', delta)\n",
    "    \n",
    "    i = 0\n",
    "    deltas = []\n",
    "    xs = []\n",
    "    x = None\n",
    "    \n",
    "    for i in tqdm(range(int(limit))):\n",
    "        xs.append(x0)\n",
    "        deltas.append(delta)\n",
    "\n",
    "        x0 -= delta            \n",
    "        delta = f(x0) / df(x0)\n",
    "            \n",
    "        if delta <= e:\n",
    "            print('--- -break at', delta)\n",
    "            break\n",
    "            \n",
    "    print('root is at: ', x0)\n",
    "    return x0, xs, deltas\n",
    "    #return x0"
   ]
  },
  {
   "cell_type": "code",
   "execution_count": 469,
   "metadata": {
    "collapsed": false
   },
   "outputs": [],
   "source": [
    "def g(beta):\n",
    "    return ((years**beta * np.log(years)).sum() / (years**beta).sum()) \\\n",
    "        - (1 / beta) \\\n",
    "        - (np.log(years).sum() / n)\n",
    "\n",
    "def g_prime(beta):\n",
    "    return (1/(beta**2)) \\\n",
    "        - ((((years**beta) * np.log(years)).sum()**2) / ((years**beta).sum()**2)) \\\n",
    "        + (((years**beta) * (np.log(years)**2)).sum()**2 / (years*beta).sum())"
   ]
  },
  {
   "cell_type": "code",
   "execution_count": 470,
   "metadata": {
    "collapsed": false
   },
   "outputs": [
    {
     "data": {
      "text/plain": [
       "0.27042677394324288"
      ]
     },
     "execution_count": 470,
     "metadata": {},
     "output_type": "execute_result"
    }
   ],
   "source": [
    "g(3)"
   ]
  },
  {
   "cell_type": "code",
   "execution_count": 471,
   "metadata": {
    "collapsed": false
   },
   "outputs": [
    {
     "data": {
      "text/plain": [
       "277908690168.60687"
      ]
     },
     "execution_count": 471,
     "metadata": {},
     "output_type": "execute_result"
    }
   ],
   "source": [
    "g_prime(3)"
   ]
  },
  {
   "cell_type": "code",
   "execution_count": 472,
   "metadata": {
    "collapsed": false
   },
   "outputs": [
    {
     "data": {
      "text/plain": [
       "9.7307778961203148e-13"
      ]
     },
     "execution_count": 472,
     "metadata": {},
     "output_type": "execute_result"
    }
   ],
   "source": [
    "g(3) / g_prime(3)"
   ]
  },
  {
   "cell_type": "code",
   "execution_count": 473,
   "metadata": {
    "collapsed": false
   },
   "outputs": [
    {
     "name": "stderr",
     "output_type": "stream",
     "text": [
      "\r",
      "  0%|          | 0/10000 [00:00<?, ?it/s]"
     ]
    },
    {
     "name": "stdout",
     "output_type": "stream",
     "text": [
      "- initial delta 9.73077789612e-13\n",
      "--- -break at 9.73077789617e-13\n",
      "root is at:  3.0\n"
     ]
    },
    {
     "name": "stderr",
     "output_type": "stream",
     "text": [
      "\n"
     ]
    }
   ],
   "source": [
    "# test the following code \n",
    "x0, xs, deltas = newton(g, g_prime, 3.0)\n",
    "#x0 = newton(g_beta_vectorized, g_beta_prime_vectorized, 2.0, 0.01)"
   ]
  },
  {
   "cell_type": "code",
   "execution_count": 445,
   "metadata": {
    "collapsed": false
   },
   "outputs": [
    {
     "data": {
      "text/plain": [
       "[3.0]"
      ]
     },
     "execution_count": 445,
     "metadata": {},
     "output_type": "execute_result"
    }
   ],
   "source": [
    "xs"
   ]
  },
  {
   "cell_type": "code",
   "execution_count": 446,
   "metadata": {
    "collapsed": false
   },
   "outputs": [
    {
     "data": {
      "text/plain": [
       "(3.0, 3.0)"
      ]
     },
     "execution_count": 446,
     "metadata": {},
     "output_type": "execute_result"
    }
   ],
   "source": [
    "xs[0], xs[-1]"
   ]
  },
  {
   "cell_type": "code",
   "execution_count": 447,
   "metadata": {
    "collapsed": false
   },
   "outputs": [
    {
     "data": {
      "text/plain": [
       "[<matplotlib.lines.Line2D at 0x10ef13eb8>]"
      ]
     },
     "execution_count": 447,
     "metadata": {},
     "output_type": "execute_result"
    },
    {
     "data": {
      "image/png": "[encoded data removed]",
      "text/plain": [
       "<matplotlib.figure.Figure at 0x114fc4588>"
      ]
     },
     "metadata": {},
     "output_type": "display_data"
    }
   ],
   "source": [
    "plt.plot(range(len(xs)), xs)"
   ]
  },
  {
   "cell_type": "code",
   "execution_count": 448,
   "metadata": {
    "collapsed": false
   },
   "outputs": [
    {
     "data": {
      "text/plain": [
       "(9.0365018014726567e-14, 9.0365018014726567e-14)"
      ]
     },
     "execution_count": 448,
     "metadata": {},
     "output_type": "execute_result"
    }
   ],
   "source": [
    "deltas[0], deltas[-1]"
   ]
  },
  {
   "cell_type": "code",
   "execution_count": 396,
   "metadata": {
    "collapsed": false
   },
   "outputs": [
    {
     "data": {
      "text/plain": [
       "[<matplotlib.lines.Line2D at 0x113c4bbe0>]"
      ]
     },
     "execution_count": 396,
     "metadata": {},
     "output_type": "execute_result"
    },
    {
     "data": {
      "image/png": "[encoded data removed]",
      "text/plain": [
       "<matplotlib.figure.Figure at 0x113ca9d68>"
      ]
     },
     "metadata": {},
     "output_type": "display_data"
    }
   ],
   "source": [
    "plt.plot(range(len(deltas)), deltas)"
   ]
  },
  {
   "cell_type": "code",
   "execution_count": 397,
   "metadata": {
    "collapsed": true
   },
   "outputs": [],
   "source": [
    "def theta(beta_hat):\n",
    "    H_sum = [((xi**beta_hat)/n) for xi in years]\n",
    "    H = sum(H_sum)\n",
    "    print('For the beta-hat estimate of: ',beta_hat)\n",
    "    print('the theta-hat estimate is: ',H**(1/beta_hat))"
   ]
  },
  {
   "cell_type": "code",
   "execution_count": 398,
   "metadata": {
    "collapsed": false
   },
   "outputs": [
    {
     "name": "stdout",
     "output_type": "stream",
     "text": [
      "For the beta-hat estimate of:  2.311902505938026\n",
      "the theta-hat estimate is:  20.1286886065\n"
     ]
    }
   ],
   "source": [
    "theta(2.311902505938026)"
   ]
  },
  {
   "cell_type": "code",
   "execution_count": null,
   "metadata": {
    "collapsed": true
   },
   "outputs": [],
   "source": []
  }
 ],
 "metadata": {
  "kernelspec": {
   "display_name": "Python 3",
   "language": "python",
   "name": "python3"
  },
  "language_info": {
   "codemirror_mode": {
    "name": "ipython",
    "version": 3
   },
   "file_extension": ".py",
   "mimetype": "text/x-python",
   "name": "python",
   "nbconvert_exporter": "python",
   "pygments_lexer": "ipython3",
   "version": "3.5.2"
  }
 },
 "nbformat": 4,
 "nbformat_minor": 1
}
