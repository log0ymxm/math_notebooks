{
 "cells": [
  {
   "cell_type": "code",
   "execution_count": 2,
   "metadata": {
    "collapsed": true
   },
   "outputs": [],
   "source": [
    "from __future__ import print_function"
   ]
  },
  {
   "cell_type": "code",
   "execution_count": 1,
   "metadata": {
    "collapsed": true
   },
   "outputs": [],
   "source": [
    "import bisect\n",
    "import random\n",
    "\n",
    "# Code by Richard Buck working with Tom Alberts, was trying to make sense of what this big random function is\n",
    "# doing with only the vaguest idea of what an involution is.\n",
    "def project(n):\n",
    "    P=[]\n",
    "    Q=[]\n",
    "    AList=[]\n",
    "    involutions=[]\n",
    "    s_point=[-1,0]\n",
    "    for j in range(1,n+1):\n",
    "        AList.append(j)\n",
    "    for x in range(1,n+1):\n",
    "        if x in AList:\n",
    "            AList.remove(x)\n",
    "            z=random.random()\n",
    "            if z>.1 and len(AList)>0:\n",
    "                y=random.choice(AList)\n",
    "                AList.remove(y)\n",
    "                involutions.append([x,y])\n",
    "            else:\n",
    "                b=random.choice(s_point)\n",
    "                involutions.append([b,x])\n",
    "        else:\n",
    "            None\n",
    "    involutions=sorted(involutions, key=lambda invo: invo[1])\n",
    "    for t in range(len(involutions)):\n",
    "        a=involutions[t][0]\n",
    "        b=involutions[t][1]\n",
    "        if a<1:\n",
    "            if len(Q)==0:\n",
    "                Q.append([a])\n",
    "                P.append([b])\n",
    "            else:\n",
    "                d=[]\n",
    "                if a==0:\n",
    "                    for n in range(len(Q)):\n",
    "                        if Q[n][-1]==-1 and len(Q[n])>len(d):\n",
    "                            d=Q[n]\n",
    "                        else:\n",
    "                            None\n",
    "                elif a==-1:\n",
    "                    for n in range(len(Q)):\n",
    "                        if Q[n][-1]==0 and len(Q[n])>len(d):\n",
    "                            d=Q[n]\n",
    "                        else:\n",
    "                            None\n",
    "                else:\n",
    "                    None\n",
    "                if d==[]:\n",
    "                    Q.append([a])\n",
    "                    P.append([b])\n",
    "                else:\n",
    "                    for x in range(len(Q)):\n",
    "                        if d==Q[x]:\n",
    "                            Q[x].append(a)\n",
    "                            P[x].append(b)\n",
    "                            break\n",
    "                        else:\n",
    "                            None\n",
    "        else:\n",
    "            if len(P)==0:\n",
    "                P.append([a])\n",
    "                Q.append([0])\n",
    "                P.append([b])\n",
    "                Q.append([-1])\n",
    "            else:\n",
    "                for t in range(len(P)):\n",
    "                    z=bisect.bisect_left(P[t],a)\n",
    "                    if max(P[t])<a:\n",
    "                        if Q[t][-1]==0:\n",
    "                            P[t].append(a)\n",
    "                            Q[t].append(-1)\n",
    "                            a=-2\n",
    "                            c=0\n",
    "                            e=t+1\n",
    "                            break\n",
    "                        else:\n",
    "                            Q[t].append(0)\n",
    "                            P[t].append(a)\n",
    "                            a=-2\n",
    "                            c=-1\n",
    "                            e=t+1\n",
    "                            break\n",
    "                    else:\n",
    "                        P[t][z],a=a,P[t][z]\n",
    "                if a!=-2:\n",
    "                    P.append([a])\n",
    "                    Q.append([0])\n",
    "                    P.append([b])\n",
    "                    Q.append([-1])\n",
    "                else:\n",
    "                    d=[]\n",
    "                    if c==0:\n",
    "                        for t in range(e,len(Q)):\n",
    "                            if Q[t][-1]==-1 and len(Q[t])>len(d):\n",
    "                                d=Q[t]\n",
    "                            else:\n",
    "                                None\n",
    "                    else:\n",
    "                        for t in range(e,len(Q)):\n",
    "                            if Q[t][-1]==0 and len(Q[t])>len(d):\n",
    "                                d=Q[t]\n",
    "                            else:\n",
    "                                None\n",
    "                    if d==[]:\n",
    "                            Q.append([c])\n",
    "                            P.append([b])\n",
    "                    else:\n",
    "                        for x in range(e,len(Q)):\n",
    "                            if d==Q[x]:\n",
    "                                Q[x].append(c)\n",
    "                                P[x].append(b)\n",
    "                                break\n",
    "                            else:\n",
    "                                None\n",
    "    for t in range(len(Q)):\n",
    "        print(Q[t])"
   ]
  },
  {
   "cell_type": "code",
   "execution_count": 9,
   "metadata": {
    "collapsed": false
   },
   "outputs": [
    {
     "name": "stdout",
     "output_type": "stream",
     "text": [
      "- 0\n",
      "\n",
      "- 1\n",
      "[0]\n",
      "\n",
      "- 2\n",
      "[0]\n",
      "[-1]\n",
      "\n",
      "- 3\n",
      "[0, -1]\n",
      "[0]\n",
      "\n",
      "- 4\n",
      "[0, -1]\n",
      "[-1, 0]\n",
      "\n",
      "- 5\n",
      "[0]\n",
      "[-1, 0]\n",
      "[0]\n",
      "[-1]\n",
      "\n",
      "- 6\n",
      "[0, -1, 0]\n",
      "[-1, 0, -1]\n",
      "\n",
      "- 7\n",
      "[0, -1]\n",
      "[-1, 0, -1]\n",
      "[0]\n",
      "[-1]\n",
      "\n",
      "- 8\n",
      "[0, -1, 0]\n",
      "[-1, 0, -1]\n",
      "[0]\n",
      "[-1]\n",
      "\n",
      "- 9\n",
      "[0, -1, 0, -1, 0]\n",
      "[0, -1, 0, -1]\n",
      "\n"
     ]
    }
   ],
   "source": [
    "for i in range(10):\n",
    "    print('-', i)\n",
    "    project(i)\n",
    "    print('')"
   ]
  },
  {
   "cell_type": "code",
   "execution_count": 10,
   "metadata": {
    "collapsed": false
   },
   "outputs": [
    {
     "name": "stdout",
     "output_type": "stream",
     "text": [
      "[0, -1, 0, -1, 0, -1, 0]\n",
      "[-1, 0, -1, 0, -1, 0, -1]\n",
      "[0, -1, 0, -1]\n",
      "[-1, 0, -1, 0]\n",
      "[0, -1, 0]\n",
      "[-1, 0, -1]\n",
      "[0, -1]\n",
      "[-1, 0]\n",
      "[0, -1]\n",
      "[-1, 0]\n",
      "[0, -1]\n",
      "[-1, 0]\n",
      "[0]\n",
      "[-1]\n"
     ]
    }
   ],
   "source": [
    "project(42)"
   ]
  },
  {
   "cell_type": "code",
   "execution_count": 11,
   "metadata": {
    "collapsed": false
   },
   "outputs": [
    {
     "name": "stdout",
     "output_type": "stream",
     "text": [
      "[0, -1, 0, -1, 0, -1, 0]\n",
      "[-1, 0, -1, 0, -1, 0, -1]\n",
      "[-1, 0, -1, 0, -1, 0]\n",
      "[-1, 0, -1, 0]\n",
      "[0, -1, 0, -1, 0, -1, 0, -1]\n",
      "[-1, 0, -1, 0]\n",
      "[0, -1]\n",
      "[-1, 0]\n",
      "[0]\n",
      "[-1]\n"
     ]
    }
   ],
   "source": [
    "project(42)"
   ]
  },
  {
   "cell_type": "code",
   "execution_count": null,
   "metadata": {
    "collapsed": true
   },
   "outputs": [],
   "source": []
  }
 ],
 "metadata": {
  "kernelspec": {
   "display_name": "Python 2",
   "language": "python",
   "name": "python2"
  },
  "language_info": {
   "codemirror_mode": {
    "name": "ipython",
    "version": 2
   },
   "file_extension": ".py",
   "mimetype": "text/x-python",
   "name": "python",
   "nbconvert_exporter": "python",
   "pygments_lexer": "ipython2",
   "version": "2.7.12"
  }
 },
 "nbformat": 4,
 "nbformat_minor": 0
}
